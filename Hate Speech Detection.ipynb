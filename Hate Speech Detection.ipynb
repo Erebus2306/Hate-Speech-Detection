{
 "cells": [
  {
   "cell_type": "code",
   "execution_count": null,
   "id": "576204f8",
   "metadata": {},
   "outputs": [],
   "source": [
    "#Importing Libraries\n",
    "\n",
    "import pandas as pd\n",
    "import numpy as np\n",
    "import re\n",
    "import nltk\n",
    "nltk.download('stopwords')"
   ]
  },
  {
   "cell_type": "code",
   "execution_count": null,
   "id": "8e2ec1ed",
   "metadata": {},
   "outputs": [],
   "source": [
    "ds = pd.read_csv(\"DS3.csv\")"
   ]
  },
  {
   "cell_type": "code",
   "execution_count": null,
   "id": "ed70d5e1",
   "metadata": {},
   "outputs": [],
   "source": [
    "ds.head()"
   ]
  },
  {
   "cell_type": "code",
   "execution_count": null,
   "id": "390fe62f",
   "metadata": {},
   "outputs": [],
   "source": [
    "ds.dropna(inplace=True)\n",
    "ds"
   ]
  },
  {
   "cell_type": "code",
   "execution_count": null,
   "id": "6cda3533",
   "metadata": {},
   "outputs": [],
   "source": [
    "ds[\"labels\"] = ds[\"class\"].map({0:\"Hate Speech\", 1:\"Offensive Language\", 2: \"No Hate Speech/Offensive Language\"})"
   ]
  },
  {
   "cell_type": "code",
   "execution_count": null,
   "id": "62d51ee1",
   "metadata": {},
   "outputs": [],
   "source": [
    "ds"
   ]
  },
  {
   "cell_type": "code",
   "execution_count": null,
   "id": "82ce84c9",
   "metadata": {},
   "outputs": [],
   "source": [
    "data = ds[[\"tweet\",\"labels\"]]"
   ]
  },
  {
   "cell_type": "code",
   "execution_count": null,
   "id": "c630f9e0",
   "metadata": {},
   "outputs": [],
   "source": [
    "data.tail(20)"
   ]
  },
  {
   "cell_type": "code",
   "execution_count": null,
   "id": "1fdb5227",
   "metadata": {},
   "outputs": [],
   "source": [
    "import string\n",
    "from nltk.corpus import stopwords\n",
    "stopwords = set(stopwords.words(\"english\"))\n",
    "stemmer = nltk.SnowballStemmer(\"english\")\n",
    "stopwords.add('rt')"
   ]
  },
  {
   "cell_type": "code",
   "execution_count": null,
   "id": "0004e710",
   "metadata": {},
   "outputs": [],
   "source": [
    "#Preprocessing/Cleaning of Data\n",
    "\n",
    "def clean_data(cleandata):\n",
    "    cleandata = str(cleandata).lower()\n",
    "    cleandata = re.sub('https?://\\S+|www\\.S+','', cleandata)\n",
    "    cleandata = re.sub('\\[.*?\\]','', cleandata)\n",
    "    cleandata = re.sub('<.*?>+', '', cleandata)\n",
    "    cleandata = re.sub('[%s]' %re.escape(string.punctuation), '', cleandata)\n",
    "    cleandata = re.sub('\\n', '', cleandata)\n",
    "    cleandata = re.sub('\\w*\\d\\w*', '', cleandata)\n",
    "    cleandata = [word for word in cleandata.split(' ') if word not in stopwords]\n",
    "    cleandata = \" \".join(cleandata)\n",
    "    cleandata = [stemmer.stem(word) for word in cleandata.split(' ')]\n",
    "    cleandata = \" \".join(cleandata)\n",
    "    return cleandata"
   ]
  },
  {
   "cell_type": "code",
   "execution_count": null,
   "id": "57d95a63",
   "metadata": {},
   "outputs": [],
   "source": [
    "data['tweet'] = data['tweet'].apply(clean_data)"
   ]
  },
  {
   "cell_type": "code",
   "execution_count": null,
   "id": "d3853ccc",
   "metadata": {},
   "outputs": [],
   "source": [
    "data.iloc[12000:12030]"
   ]
  },
  {
   "cell_type": "code",
   "execution_count": null,
   "id": "de12c533",
   "metadata": {},
   "outputs": [],
   "source": [
    "X = np.array(data['tweet'])\n",
    "y = np.array(data['labels'])"
   ]
  },
  {
   "cell_type": "code",
   "execution_count": null,
   "id": "2df5299c",
   "metadata": {},
   "outputs": [],
   "source": [
    "X"
   ]
  },
  {
   "cell_type": "code",
   "execution_count": null,
   "id": "ee5dc680",
   "metadata": {},
   "outputs": [],
   "source": [
    "from sklearn.feature_extraction.text import CountVectorizer\n",
    "from sklearn.model_selection import train_test_split"
   ]
  },
  {
   "cell_type": "code",
   "execution_count": null,
   "id": "fb0b1de1",
   "metadata": {},
   "outputs": [],
   "source": [
    "cvct = CountVectorizer()\n",
    "X = cvct.fit_transform(X)"
   ]
  },
  {
   "cell_type": "code",
   "execution_count": null,
   "id": "010e26af",
   "metadata": {},
   "outputs": [],
   "source": [
    "X"
   ]
  },
  {
   "cell_type": "code",
   "execution_count": null,
   "id": "2d7896c4",
   "metadata": {},
   "outputs": [],
   "source": [
    "X_train, X_test, y_train, y_test = train_test_split(X, y, test_size=0.40, random_state=42)"
   ]
  },
  {
   "cell_type": "code",
   "execution_count": null,
   "id": "dab95f9a",
   "metadata": {},
   "outputs": [],
   "source": [
    "X_train"
   ]
  },
  {
   "cell_type": "code",
   "execution_count": null,
   "id": "046b2b17",
   "metadata": {},
   "outputs": [],
   "source": [
    "#Building ML Model\n",
    "\n",
    "from sklearn.tree import DecisionTreeClassifier"
   ]
  },
  {
   "cell_type": "code",
   "execution_count": null,
   "id": "3e393069",
   "metadata": {},
   "outputs": [],
   "source": [
    "dt = DecisionTreeClassifier()\n",
    "dt.fit(X_train, y_train)"
   ]
  },
  {
   "cell_type": "code",
   "execution_count": null,
   "id": "c34f1be8",
   "metadata": {},
   "outputs": [],
   "source": [
    "y_pred = dt.predict(X_test)"
   ]
  },
  {
   "cell_type": "code",
   "execution_count": null,
   "id": "2b381b3c",
   "metadata": {
    "scrolled": true
   },
   "outputs": [],
   "source": [
    "from sklearn.metrics import confusion_matrix\n",
    "cfm = confusion_matrix(y_test, y_pred)\n",
    "cfm"
   ]
  },
  {
   "cell_type": "code",
   "execution_count": null,
   "id": "770d3d5e",
   "metadata": {},
   "outputs": [],
   "source": [
    "import seaborn as sns\n",
    "import matplotlib.pyplot as plt\n",
    "%matplotlib inline"
   ]
  },
  {
   "cell_type": "code",
   "execution_count": null,
   "id": "5c10a7f8",
   "metadata": {},
   "outputs": [],
   "source": [
    "sns.heatmap(cfm, annot = True, fmt=\".1f\", cmap=\"BuPu\")"
   ]
  },
  {
   "cell_type": "code",
   "execution_count": null,
   "id": "9238c1e3",
   "metadata": {},
   "outputs": [],
   "source": [
    "from sklearn.metrics import accuracy_score\n",
    "accuracy_score(y_test,y_pred)"
   ]
  },
  {
   "cell_type": "code",
   "execution_count": null,
   "id": "16efdaf9",
   "metadata": {},
   "outputs": [],
   "source": [
    "sample = \"Honor killing is the only punishment for you.\"\n",
    "sample = clean_data(sample)"
   ]
  },
  {
   "cell_type": "code",
   "execution_count": null,
   "id": "51cae24b",
   "metadata": {},
   "outputs": [],
   "source": [
    "sample"
   ]
  },
  {
   "cell_type": "code",
   "execution_count": null,
   "id": "8f318b94",
   "metadata": {},
   "outputs": [],
   "source": [
    "datax = cvct.transform([sample]).toarray()"
   ]
  },
  {
   "cell_type": "code",
   "execution_count": null,
   "id": "6da32f45",
   "metadata": {},
   "outputs": [],
   "source": [
    "dt.predict(datax)"
   ]
  },
  {
   "cell_type": "code",
   "execution_count": null,
   "id": "1a426059",
   "metadata": {},
   "outputs": [],
   "source": []
  },
  {
   "cell_type": "code",
   "execution_count": null,
   "id": "b0685eeb",
   "metadata": {},
   "outputs": [],
   "source": []
  }
 ],
 "metadata": {
  "kernelspec": {
   "display_name": "Python 3 (ipykernel)",
   "language": "python",
   "name": "python3"
  },
  "language_info": {
   "codemirror_mode": {
    "name": "ipython",
    "version": 3
   },
   "file_extension": ".py",
   "mimetype": "text/x-python",
   "name": "python",
   "nbconvert_exporter": "python",
   "pygments_lexer": "ipython3",
   "version": "3.11.4"
  }
 },
 "nbformat": 4,
 "nbformat_minor": 5
}
